{
 "cells": [
  {
   "cell_type": "markdown",
   "metadata": {},
   "source": [
    "# KMeans e DBSCAN\n"
   ]
  },
  {
   "cell_type": "code",
   "execution_count": null,
   "metadata": {},
   "outputs": [],
   "source": [
    "import plotly.express as px\n",
    "import matplotlib.pyplot as plt\n",
    "import pandas as pd\n",
    "import numpy as np\n",
    "from sklearn.cluster import KMeans, DBSCAN"
   ]
  },
  {
   "cell_type": "code",
   "execution_count": null,
   "metadata": {},
   "outputs": [],
   "source": [
    "# Load the data\n",
    "mydata = pd.read_csv(\"./Energy_consumption.csv\")\n",
    "mydata.info()\n",
    "mydata.head()"
   ]
  },
  {
   "cell_type": "code",
   "execution_count": null,
   "metadata": {},
   "outputs": [],
   "source": [
    "# Cleaning up the data\n",
    "mydata = mydata.dropna()\n",
    "mydata = mydata.drop(['RenewableEnergy'], axis=1)\n",
    "mydata['Timestamp'] = pd.to_datetime(mydata['Timestamp'])\n",
    "mydata['Hour'] = mydata['Timestamp'].dt.hour\n",
    "mydata['part_of_day'] = (mydata['Timestamp'].dt.hour % 24 + 4) // 4\n",
    "mydata.head()"
   ]
  },
  {
   "cell_type": "code",
   "execution_count": null,
   "metadata": {},
   "outputs": [],
   "source": [
    "from sklearn.preprocessing import LabelEncoder\n",
    "dayofweek = LabelEncoder()\n",
    "lightingusage = LabelEncoder()\n",
    "holiday = LabelEncoder()\n",
    "HVACUsage = LabelEncoder()\n",
    "\n",
    "mydata['DayOfWeek'] = dayofweek.fit_transform(mydata['DayOfWeek'])\n",
    "mydata['LightingUsage'] = lightingusage.fit_transform(mydata['LightingUsage'])\n",
    "mydata['Holiday'] = holiday.fit_transform(mydata['Holiday'])\n",
    "mydata['HVACUsage'] = HVACUsage.fit_transform(mydata['HVACUsage'])\n",
    "mydata = mydata.drop(['Timestamp'], axis=1)\n",
    "mydata.head()"
   ]
  },
  {
   "cell_type": "code",
   "execution_count": null,
   "metadata": {},
   "outputs": [],
   "source": [
    "# escolhendo as features, e as normalizando\n",
    "from sklearn.preprocessing import StandardScaler\n",
    "scaler = StandardScaler()\n",
    "features = ['DayOfWeek', 'Hour', 'part_of_day', 'LightingUsage', 'Holiday', 'HVACUsage']\n",
    "X = mydata[features]\n",
    "X = scaler.fit_transform(X)\n",
    "X = pd.DataFrame(X, columns=features)\n",
    "X.head()"
   ]
  },
  {
   "cell_type": "markdown",
   "metadata": {},
   "source": [
    "Primeiro, vamos fazer a clusterização com KMeans."
   ]
  },
  {
   "cell_type": "code",
   "execution_count": null,
   "metadata": {},
   "outputs": [],
   "source": [
    "# KMeans\n",
    "# Pra escolher o número de clusters, podemos usar o método do cotovelo\n",
    "\n",
    "#SSE = soma dos erros quadráticos, quanto menor melhor\n",
    "sse = []\n",
    "for k in range(1, 11):\n",
    "    kmeans = KMeans(n_clusters=k, random_state=42, n_init=10)\n",
    "    kmeans.fit(X)\n",
    "    sse.append(kmeans.inertia_)\n",
    "\n",
    "plt.figure(figsize=(8, 5))\n",
    "plt.plot(range(1, 11), sse, marker='o')\n",
    "plt.xlabel('Número de clusters')\n",
    "plt.ylabel('SSE')\n",
    "plt.title('Método do Cotovelo')\n",
    "plt.show()\n"
   ]
  },
  {
   "cell_type": "code",
   "execution_count": null,
   "metadata": {},
   "outputs": [],
   "source": [
    "\n",
    "from yellowbrick.cluster import KElbowVisualizer\n",
    "elbow_method = KElbowVisualizer(KMeans(n_init=10), k=(1,10))\n",
    "elbow_method.fit(X)\n",
    "elbow_method.show()\n"
   ]
  },
  {
   "cell_type": "code",
   "execution_count": null,
   "metadata": {},
   "outputs": [],
   "source": [
    "%pip install ipykernel"
   ]
  },
  {
   "cell_type": "code",
   "execution_count": null,
   "metadata": {},
   "outputs": [],
   "source": [
    "kmeans = KMeans(n_clusters=4, random_state=42, n_init=10)\n",
    "kmeans_labels = kmeans.fit_predict(X)\n",
    "mydata['kmeans_labels'] = kmeans_labels\n",
    "\n",
    "#fig = px.scatter_3d(mydata, x='DayOfWeek', y='Hour', z='part_of_day', color='kmeans_labels')\n",
    "#fig.show()\n",
    "mydata.head()"
   ]
  },
  {
   "cell_type": "code",
   "execution_count": null,
   "metadata": {},
   "outputs": [],
   "source": [
    "# reduzindo a dimensionalidade para visualizar\n",
    "from sklearn.decomposition import PCA\n",
    "PCA = PCA(n_components=2)\n",
    "X_pca = PCA.fit_transform(X)\n",
    "# plt = plt.scatter(X_pca[:, 0], X_pca[:, 1], c=kmeans_labels, cmap='viridis')\n",
    "# plt.xlabel('Componente Principal 1')\n",
    "# plt.ylabel('Componente Principal 2')"
   ]
  }
 ],
 "metadata": {
  "kernelspec": {
   "display_name": "Python 3",
   "language": "python",
   "name": "python3"
  },
  "language_info": {
   "codemirror_mode": {
    "name": "ipython",
    "version": 3
   },
   "file_extension": ".py",
   "mimetype": "text/x-python",
   "name": "python",
   "nbconvert_exporter": "python",
   "pygments_lexer": "ipython3",
   "version": "3.11.5"
  }
 },
 "nbformat": 4,
 "nbformat_minor": 2
}
